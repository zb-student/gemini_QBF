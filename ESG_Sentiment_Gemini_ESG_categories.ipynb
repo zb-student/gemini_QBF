{
  "nbformat": 4,
  "nbformat_minor": 0,
  "metadata": {
    "colab": {
      "provenance": [],
      "include_colab_link": true
    },
    "kernelspec": {
      "name": "python3",
      "display_name": "Python 3"
    },
    "language_info": {
      "name": "python"
    }
  },
  "cells": [
    {
      "cell_type": "markdown",
      "metadata": {
        "id": "view-in-github",
        "colab_type": "text"
      },
      "source": [
        "<a href=\"https://colab.research.google.com/github/zb-student/gemini_QBF/blob/main/ESG_Sentiment_Gemini_ESG_categories.ipynb\" target=\"_parent\"><img src=\"https://colab.research.google.com/assets/colab-badge.svg\" alt=\"Open In Colab\"/></a>"
      ]
    },
    {
      "cell_type": "code",
      "execution_count": 4,
      "metadata": {
        "colab": {
          "base_uri": "https://localhost:8080/",
          "height": 697
        },
        "id": "ZJc6ZbhwTv8i",
        "outputId": "b55bd2da-e58f-41a1-fa0f-71a4d4c6f8c9"
      },
      "outputs": [
        {
          "output_type": "stream",
          "name": "stdout",
          "text": [
            "Drive already mounted at /content/drive; to attempt to forcibly remount, call drive.mount(\"/content/drive\", force_remount=True).\n",
            "\n",
            "Sentiment analysis complete!\n",
            "The output has been saved to: /content/drive/My Drive/ESG - annotated AN - short with ESG Sentiment.xlsx\n",
            "\n",
            "Preview of the output file:\n",
            "   Column1                      id  \\\n",
            "0        0  CLASSLA-web.sl.2068987   \n",
            "1        1  CLASSLA-web.sl.3237041   \n",
            "2        2  CLASSLA-web.sl.1371033   \n",
            "3        3   CLASSLA-web.sl.938966   \n",
            "4        4  CLASSLA-web.sl.2226581   \n",
            "\n",
            "                                               title  \\\n",
            "0  Fajfar: Želimo si čim več infrastrukturnih pro...   \n",
            "1  19. skupščina Telekoma Slovenije - uspešna pri...   \n",
            "2  Telekom s telemedicinsko rešitvijo za spremlja...   \n",
            "3              Vožnja na plin je cenejša - RTVSLO.si   \n",
            "4  VIDEO: Slovenske železnice organizirale pogozd...   \n",
            "\n",
            "                                                text                   media  \\\n",
            "0  Fajfar: Želimo si čim več infrastrukturnih pro...    akademija-finance.si   \n",
            "1  19. skupščina Telekoma Slovenije - uspešna pri...          drustvo-mds.si   \n",
            "2  Telekom s telemedicinsko rešitvijo za spremlja...              dnevnik.si   \n",
            "3  Opel in Petrol si skupaj prizadevata za poveča...               rtvslo.si   \n",
            "4  VIDEO: Slovenske železnice organizirale pogozd...  notranjskoprimorske.si   \n",
            "\n",
            "               company           E         S           G  E_gemini  S_gemini  \\\n",
            "0            SID banka    Positive  Positive    Positive   Neutral  Positive   \n",
            "1    Telekom Slovenije  Irrelevant  Positive    Positive   Neutral   Neutral   \n",
            "2    Telekom Slovenije  Irrelevant  Positive    Positive  Positive  Positive   \n",
            "3               Petrol    Positive  Positive  Irrelevant  Positive  Positive   \n",
            "4  Slovenske Železnice    Positive  Positive  Irrelevant  Positive  Positive   \n",
            "\n",
            "   G_gemini  \n",
            "0  Positive  \n",
            "1   Neutral  \n",
            "2  Positive  \n",
            "3  Positive  \n",
            "4  Positive  \n"
          ]
        }
      ],
      "source": [
        "# 1. Install necessary libraries\n",
        "!pip install -q -U google-generativeai pandas openpyxl\n",
        "\n",
        "# 2. Import libraries and set up API key\n",
        "import google.generativeai as genai\n",
        "import pandas as pd\n",
        "from google.colab import userdata\n",
        "from google.colab import drive\n",
        "import time\n",
        "\n",
        "# Get the API key from Colab secrets\n",
        "# IMPORTANT: Add your GEM_API_KEY to Colab secrets.\n",
        "# Go to the \"🔑\" icon in the left sidebar, click \"Add new secret\",\n",
        "# enter \"GEM_API_KEY\" as the Name and paste your API key as the Value.\n",
        "# Make sure \"Notebook access\" is enabled.\n",
        "try:\n",
        "    api_key = userdata.get('GEM_API_KEY')\n",
        "    genai.configure(api_key=api_key)\n",
        "except userdata.SecretNotFoundError:\n",
        "    print(\"Error: GEM_API_KEY not found in Colab secrets.\")\n",
        "    print(\"Please add your GEM_API_KEY to Colab secrets using the key icon in the left sidebar.\")\n",
        "    # Exit or handle the error as appropriate for your script\n",
        "    exit() # Exit the script if the API key is not found\n",
        "\n",
        "\n",
        "# 3. Mount Google Drive\n",
        "drive.mount('/content/drive')\n",
        "\n",
        "# 4. Read the Excel file\n",
        "# IMPORTANT: Replace 'your_file.xlsx' with the actual name of your file.\n",
        "# Make sure the file is in the root of your Google Drive or provide the correct path.\n",
        "file_path = '/content/drive/My Drive/ESG - annotated AN - short.xlsx'\n",
        "try:\n",
        "    df = pd.read_excel(file_path)\n",
        "except FileNotFoundError:\n",
        "    print(f\"Error: The file was not found at {file_path}\")\n",
        "    print(\"Please make sure the file name is correct and it is uploaded to your Google Drive.\")\n",
        "    # Create a dummy dataframe for demonstration if the file is not found\n",
        "    df = pd.DataFrame({'text': ['Gemini is a powerful AI.', 'I am not happy with the service.']})\n",
        "\n",
        "\n",
        "# 5. Function to get sentiment from Gemini for a specific category\n",
        "def get_gemini_category_sentiment(row, category):\n",
        "    \"\"\"Analyzes the sentiment of a given text towards a specific ESG category using the Gemini API.\"\"\"\n",
        "    text = row['text']\n",
        "    try:\n",
        "        model = genai.GenerativeModel('gemini-2.0-flash')\n",
        "        response = model.generate_content(f'Analyze the sentiment of this text towards the {category} category and return only one word: \"Positive\", \"Negative\", or \"Neutral\". Text: \"{text}\"')\n",
        "        # A short delay to avoid overwhelming the API\n",
        "        # time.sleep(4) # Removed delay\n",
        "        return response.text.strip()\n",
        "    except Exception as e:\n",
        "        return f\"Error: {e}\"\n",
        "\n",
        "# 6. Iterate through rows and get sentiment for each ESG category\n",
        "# Create new columns for the sentiment towards each ESG category\n",
        "for category in ['E', 'S', 'G']:\n",
        "    df[f'{category}_gemini'] = df.apply(lambda row: get_gemini_category_sentiment(row, category), axis=1)\n",
        "\n",
        "\n",
        "# 7. Save the output to a new Excel file\n",
        "output_path = '/content/drive/My Drive/ESG - annotated AN - short with ESG Sentiment.xlsx'\n",
        "df.to_excel(output_path, index=False)\n",
        "\n",
        "print(\"\\nSentiment analysis complete!\")\n",
        "print(f\"The output has been saved to: {output_path}\")\n",
        "\n",
        "# Display the first 5 rows of the new dataframe\n",
        "print(\"\\nPreview of the output file:\")\n",
        "print(df.head())"
      ]
    }
  ]
}